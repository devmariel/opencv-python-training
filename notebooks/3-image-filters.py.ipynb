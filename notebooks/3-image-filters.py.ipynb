{
 "cells": [
  {
   "cell_type": "code",
   "execution_count": null,
   "metadata": {},
   "outputs": [],
   "source": [
    "__version__= '1.0.0'\n",
    "__author__= 'Mariel Castillo'\n",
    "\n",
    "import cv2\n",
    "import numpy as np\n",
    "\n",
    "def apply_invert(frame):\n",
    "  return cv2.bitwise_not(frame)\n",
    "\n",
    "def apply_sepia(frame, intensity=0.5):\n",
    "  blue, green, red = 100, 10, 116\n",
    "  frame = cv2.cvtColor(frame, cv2.COLOR_BGR2BGRA)\n",
    "  frame_height, frame_width, frame_channel = frame.shape\n",
    "  sepia_bgra = (blue, green, red, 1)\n",
    "    \n",
    "  overlay = np.full((frame_height, frame_width, 4), sepia_bgra, dtype='uint8')\n",
    "\n",
    "  frame = cv2.addWeighted(overlay, intensity, frame, 1.0, 0)\n",
    "  frame = cv2.cvtColor(frame, cv2.COLOR_BGR2BGRA)\n",
    "  return frame\n",
    "\n",
    "def apply_filter(frame, intensity=0.5):\n",
    "  blue, green, red = 14, 120, 100\n",
    "  frame = cv2.cvtColor(frame, cv2.COLOR_BGR2BGRA)\n",
    "  frame_height, frame_width, frame_channel = frame.shape\n",
    "  sepia_bgra = (blue, green, red, 1)\n",
    "\n",
    "  overlay = np.full((frame_height, frame_width, 4), sepia_bgra, dtype='uint8')\n",
    "\n",
    "  frame = cv2.addWeighted(overlay, intensity, frame, 1.0, 0)\n",
    "  frame = cv2.cvtColor(frame, cv2.COLOR_BGR2BGRA)\n",
    "  return frame\n",
    "\n",
    "cap = cv2.VideoCapture(0)\n",
    "\n",
    "while True:\n",
    "    _, frame = cap.read()\n",
    "    \n",
    "    invert = apply_invert(frame)\n",
    "    sepia = apply_sepia(frame)\n",
    "    filter = apply_filter(frame)\n",
    "\n",
    "    cv2.imshow('frame', frame)\n",
    "    cv2.imshow('invert', invert)\n",
    "    cv2.imshow('sepia', sepia)\n",
    "    cv2.imshow('filter', filter)\n",
    "\n",
    "    if cv2.waitKey(1) & 0xFF == ord('q'):\n",
    "      break"
   ]
  },
  {
   "cell_type": "code",
   "execution_count": null,
   "metadata": {},
   "outputs": [],
   "source": []
  },
  {
   "cell_type": "code",
   "execution_count": null,
   "metadata": {},
   "outputs": [],
   "source": []
  }
 ],
 "metadata": {
  "kernelspec": {
   "display_name": "Python 3",
   "language": "python",
   "name": "python3"
  },
  "language_info": {
   "codemirror_mode": {
    "name": "ipython",
    "version": 3
   },
   "file_extension": ".py",
   "mimetype": "text/x-python",
   "name": "python",
   "nbconvert_exporter": "python",
   "pygments_lexer": "ipython3",
   "version": "3.6.5"
  }
 },
 "nbformat": 4,
 "nbformat_minor": 2
}
